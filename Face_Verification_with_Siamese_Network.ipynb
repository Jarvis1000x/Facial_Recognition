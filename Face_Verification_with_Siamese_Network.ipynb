{
  "nbformat": 4,
  "nbformat_minor": 0,
  "metadata": {
    "colab": {
      "name": "Face Verification with Siamese Network",
      "provenance": [],
      "collapsed_sections": [],
      "mount_file_id": "1BRZ_m1TVzbEn_oNaKQ86m3ZPOlHrd3wV",
      "authorship_tag": "ABX9TyMvv5kk0z8zqgtReh2LVhdo",
      "include_colab_link": true
    },
    "kernelspec": {
      "name": "python3",
      "display_name": "Python 3"
    },
    "language_info": {
      "name": "python"
    },
    "accelerator": "GPU"
  },
  "cells": [
    {
      "cell_type": "markdown",
      "metadata": {
        "id": "view-in-github",
        "colab_type": "text"
      },
      "source": [
        "<a href=\"https://colab.research.google.com/github/Jarvis1000x/Facial_Recognition/blob/main/Face_Verification_with_Siamese_Network.ipynb\" target=\"_parent\"><img src=\"https://colab.research.google.com/assets/colab-badge.svg\" alt=\"Open In Colab\"/></a>"
      ]
    },
    {
      "cell_type": "code",
      "metadata": {
        "id": "R_mG8yKSlcP2"
      },
      "source": [
        "# Standard Dependencies\n",
        "import os\n",
        "import cv2\n",
        "import random\n",
        "import numpy as np\n",
        "from matplotlib import pyplot as plt\n",
        "import uuid\n",
        "\n",
        "# Tensorflow Dependencies\n",
        "from tensorflow.keras.models import Model\n",
        "from tensorflow.keras.layers import Layer, Conv2D, Dense, MaxPooling2D, Input, Flatten\n",
        "import tensorflow as tf"
      ],
      "execution_count": 1,
      "outputs": []
    },
    {
      "cell_type": "code",
      "metadata": {
        "id": "MsYdMBpllgsr"
      },
      "source": [
        "# Avoiding OOM Errors for GPU\n",
        "gpus = tf.config.experimental.list_physical_devices(\"GPU\")\n",
        "for gpu in gpus:\n",
        "    tf.config.experimental.set_memory_growth(gpu, True)"
      ],
      "execution_count": 2,
      "outputs": []
    },
    {
      "cell_type": "markdown",
      "metadata": {
        "id": "P5fKiCsbx9zt"
      },
      "source": [
        "# Loading and Preprocessing Data"
      ]
    },
    {
      "cell_type": "code",
      "metadata": {
        "id": "ofTEASqcNWY6"
      },
      "source": [
        "# Folder Structure\n",
        "Pos_Path = \"/content/drive/MyDrive/Colab Notebooks/Facial Verification/data/positive\"\n",
        "Neg_Path = \"/content/drive/MyDrive/Colab Notebooks/Facial Verification/data/negative\"\n",
        "Anc_Path = \"/content/drive/MyDrive/Colab Notebooks/Facial Verification/data/anchor\""
      ],
      "execution_count": 3,
      "outputs": []
    },
    {
      "cell_type": "code",
      "metadata": {
        "colab": {
          "base_uri": "https://localhost:8080/"
        },
        "id": "Jx_R8CoONq7e",
        "outputId": "080c44f3-ad41-4b1b-a091-b163ff462f67"
      },
      "source": [
        "def load_dataset(filepath):\n",
        "    print(filepath+'/*.jpg')\n",
        "    train_list_ds = tf.data.Dataset.list_files(filepath+'/*.jpg', shuffle=False).take(300)\n",
        "    return train_list_ds\n",
        "\n",
        "anchor = load_dataset(Anc_Path)\n",
        "positive = load_dataset(Pos_Path)\n",
        "negative = load_dataset(Neg_Path)"
      ],
      "execution_count": 4,
      "outputs": [
        {
          "output_type": "stream",
          "name": "stdout",
          "text": [
            "/content/drive/MyDrive/Colab Notebooks/Facial Verification/data/anchor/*.jpg\n",
            "/content/drive/MyDrive/Colab Notebooks/Facial Verification/data/positive/*.jpg\n",
            "/content/drive/MyDrive/Colab Notebooks/Facial Verification/data/negative/*.jpg\n"
          ]
        }
      ]
    },
    {
      "cell_type": "code",
      "metadata": {
        "id": "5RXnDQQlltNo"
      },
      "source": [
        "# Preprocessing\n",
        "def preprocess(file_path):\n",
        "    byte_img = tf.io.read_file(file_path)\n",
        "    img = tf.io.decode_jpeg(byte_img)\n",
        "    img = tf.image.resize(img, (100, 100))\n",
        "    img = img /255.0\n",
        "    return img    "
      ],
      "execution_count": 5,
      "outputs": []
    },
    {
      "cell_type": "code",
      "metadata": {
        "id": "Hy1UTY2QPS1l"
      },
      "source": [
        "# Creating Labelled Dataset\n",
        "positives = tf.data.Dataset.zip((anchor, positive, tf.data.Dataset.from_tensor_slices(tf.ones(len(anchor)))))\n",
        "negatives = tf.data.Dataset.zip((anchor, negative, tf.data.Dataset.from_tensor_slices(tf.zeros(len(anchor)))))\n",
        "data = positives.concatenate(negatives)"
      ],
      "execution_count": 6,
      "outputs": []
    },
    {
      "cell_type": "code",
      "metadata": {
        "id": "tVp844qySHBk"
      },
      "source": [
        "def preprocess_twins(input_img, validation_img, label):\n",
        "    return(preprocess(input_img), preprocess(validation_img), label)"
      ],
      "execution_count": 7,
      "outputs": []
    },
    {
      "cell_type": "code",
      "metadata": {
        "id": "uOJfLI02SJve"
      },
      "source": [
        "# Dataloader Pipeline\n",
        "data = data.map(preprocess_twins)\n",
        "data = data.cache()\n",
        "data = data.shuffle(buffer_size=1024)\n",
        "\n",
        "# Training Partition \n",
        "train_data = data.take(round(len(data)*.7))\n",
        "train_data = train_data.batch(16)\n",
        "train_data = train_data.prefetch(8)"
      ],
      "execution_count": 8,
      "outputs": []
    },
    {
      "cell_type": "code",
      "metadata": {
        "id": "5IPv95vjSLjn"
      },
      "source": [
        "# Testing Partition\n",
        "test_data = data.skip(round(len(data)*.7))\n",
        "test_data = test_data.take(round(len(data)*.3))\n",
        "test_data = test_data.batch(16)\n",
        "test_data = test_data.prefetch(8)"
      ],
      "execution_count": 9,
      "outputs": []
    },
    {
      "cell_type": "markdown",
      "metadata": {
        "id": "nMEnQprpyF9c"
      },
      "source": [
        "# Building the Model"
      ]
    },
    {
      "cell_type": "code",
      "metadata": {
        "id": "q8RJb8jUx2nL"
      },
      "source": [
        "# Embedding Layer\n",
        "def make_embedding():\n",
        "    inp = Input(shape=(100, 100, 3), name=\"input_image\")\n",
        "    \n",
        "    # First Block\n",
        "    c1 = Conv2D(64, (10, 10), activation=\"relu\")(inp)\n",
        "    m1 = MaxPooling2D(64, (2, 2), padding=\"same\")(c1)\n",
        "    \n",
        "    #Second Block\n",
        "    c2 = Conv2D(128, (7, 7), activation=\"relu\")(m1)\n",
        "    m2 = MaxPooling2D(64, (2, 2), padding=\"same\")(c2)\n",
        "    \n",
        "    #Third Block\n",
        "    c3 = Conv2D(128, (4, 4), activation=\"relu\")(m2)\n",
        "    m3 = MaxPooling2D(64, (2, 2), padding=\"same\")(c2)\n",
        "    \n",
        "    # Final Embedding Layer\n",
        "    c4 = Conv2D(256, (4, 4), activation=\"relu\")(m3)\n",
        "    f1 = Flatten()(c4)\n",
        "    d1 = Dense(4096, activation=\"sigmoid\")(f1)\n",
        "    \n",
        "    return Model(inputs=[inp], outputs=[d1], name=\"embedding\")"
      ],
      "execution_count": 10,
      "outputs": []
    },
    {
      "cell_type": "code",
      "metadata": {
        "id": "SE8KfR6tyK4e"
      },
      "source": [
        "embedding = make_embedding()"
      ],
      "execution_count": 11,
      "outputs": []
    },
    {
      "cell_type": "code",
      "metadata": {
        "colab": {
          "base_uri": "https://localhost:8080/"
        },
        "id": "NnDyq3n-yM2u",
        "outputId": "aa448a5d-f55c-43c7-94c6-1bc105875c3a"
      },
      "source": [
        "embedding.summary()"
      ],
      "execution_count": 12,
      "outputs": [
        {
          "output_type": "stream",
          "name": "stdout",
          "text": [
            "Model: \"embedding\"\n",
            "_________________________________________________________________\n",
            "Layer (type)                 Output Shape              Param #   \n",
            "=================================================================\n",
            "input_image (InputLayer)     [(None, 100, 100, 3)]     0         \n",
            "_________________________________________________________________\n",
            "conv2d (Conv2D)              (None, 91, 91, 64)        19264     \n",
            "_________________________________________________________________\n",
            "max_pooling2d (MaxPooling2D) (None, 46, 46, 64)        0         \n",
            "_________________________________________________________________\n",
            "conv2d_1 (Conv2D)            (None, 40, 40, 128)       401536    \n",
            "_________________________________________________________________\n",
            "max_pooling2d_2 (MaxPooling2 (None, 20, 20, 128)       0         \n",
            "_________________________________________________________________\n",
            "conv2d_3 (Conv2D)            (None, 17, 17, 256)       524544    \n",
            "_________________________________________________________________\n",
            "flatten (Flatten)            (None, 73984)             0         \n",
            "_________________________________________________________________\n",
            "dense (Dense)                (None, 4096)              303042560 \n",
            "=================================================================\n",
            "Total params: 303,987,904\n",
            "Trainable params: 303,987,904\n",
            "Non-trainable params: 0\n",
            "_________________________________________________________________\n"
          ]
        }
      ]
    },
    {
      "cell_type": "code",
      "metadata": {
        "id": "3m0GCUxnyPnz"
      },
      "source": [
        "# Siamese L1 Distance Class\n",
        "class L1Dist(Layer):\n",
        "    def __init__(self, **kwargs):\n",
        "        super().__init__()\n",
        "    \n",
        "    # Similarity Clarification\n",
        "    def call(self, input_embedding, validation_embedding):\n",
        "        return tf.math.abs(input_embedding - validation_embedding)"
      ],
      "execution_count": 13,
      "outputs": []
    },
    {
      "cell_type": "code",
      "metadata": {
        "id": "x2KfXZ4kySPw"
      },
      "source": [
        "l1 = L1Dist()"
      ],
      "execution_count": 14,
      "outputs": []
    },
    {
      "cell_type": "code",
      "metadata": {
        "id": "9raXqcdTyXTr"
      },
      "source": [
        "# Siamese Model\n",
        "def make_siamese_model():\n",
        "    \n",
        "    # Anchor Image\n",
        "    input_image = Input(name=\"input_img\", shape=(100, 100, 3))\n",
        "    \n",
        "    # Validation Image\n",
        "    validation_image = Input(name=\"validation_img\", shape=(100, 100, 3))\n",
        "    \n",
        "    # Siamese distance components\n",
        "    siamese_layer = L1Dist()\n",
        "    siamese_layer._name = \"distance\"\n",
        "    distances = siamese_layer(embedding(input_image), embedding(validation_image))\n",
        "    \n",
        "    # Classification Layer\n",
        "    classifier = Dense(1, activation=\"sigmoid\")(distances)\n",
        "    \n",
        "    return Model(inputs=[input_image, validation_image], outputs=classifier, name=\"SiameseNetwork\")\n"
      ],
      "execution_count": 15,
      "outputs": []
    },
    {
      "cell_type": "code",
      "metadata": {
        "id": "O6OAwbY9znaW"
      },
      "source": [
        "siamese_model = make_siamese_model()"
      ],
      "execution_count": 16,
      "outputs": []
    },
    {
      "cell_type": "code",
      "metadata": {
        "colab": {
          "base_uri": "https://localhost:8080/"
        },
        "id": "yLlcY5_8zqKF",
        "outputId": "3843e895-fc1e-4edf-88ab-017c27cea5a8"
      },
      "source": [
        "siamese_model.summary()"
      ],
      "execution_count": 17,
      "outputs": [
        {
          "output_type": "stream",
          "name": "stdout",
          "text": [
            "Model: \"SiameseNetwork\"\n",
            "__________________________________________________________________________________________________\n",
            "Layer (type)                    Output Shape         Param #     Connected to                     \n",
            "==================================================================================================\n",
            "input_img (InputLayer)          [(None, 100, 100, 3) 0                                            \n",
            "__________________________________________________________________________________________________\n",
            "validation_img (InputLayer)     [(None, 100, 100, 3) 0                                            \n",
            "__________________________________________________________________________________________________\n",
            "embedding (Functional)          (None, 4096)         303987904   input_img[0][0]                  \n",
            "                                                                 validation_img[0][0]             \n",
            "__________________________________________________________________________________________________\n",
            "distance (L1Dist)               (None, 4096)         0           embedding[0][0]                  \n",
            "                                                                 embedding[1][0]                  \n",
            "__________________________________________________________________________________________________\n",
            "dense_1 (Dense)                 (None, 1)            4097        distance[0][0]                   \n",
            "==================================================================================================\n",
            "Total params: 303,992,001\n",
            "Trainable params: 303,992,001\n",
            "Non-trainable params: 0\n",
            "__________________________________________________________________________________________________\n"
          ]
        }
      ]
    },
    {
      "cell_type": "markdown",
      "metadata": {
        "id": "jf47RjtBybe9"
      },
      "source": [
        "# Training"
      ]
    },
    {
      "cell_type": "code",
      "metadata": {
        "id": "_Vsh_S06yZoX"
      },
      "source": [
        "binary_cross_loss = tf.losses.BinaryCrossentropy()"
      ],
      "execution_count": 18,
      "outputs": []
    },
    {
      "cell_type": "code",
      "metadata": {
        "id": "E3hWshw4ygwP"
      },
      "source": [
        "opt = tf.keras.optimizers.Adam(1e-4)"
      ],
      "execution_count": 19,
      "outputs": []
    },
    {
      "cell_type": "code",
      "metadata": {
        "id": "8-CseOWoyioR"
      },
      "source": [
        "# Checkpoints\n",
        "checkpoint_dir = '/content/drive/MyDrive/Colab Notebooks/Facial Verification/training_checkpoints'\n",
        "checkpoint_prefix = os.path.join(checkpoint_dir, 'ckpt')\n",
        "checkpoint = tf.train.Checkpoint(opt=opt, siamese_model=siamese_model)"
      ],
      "execution_count": 20,
      "outputs": []
    },
    {
      "cell_type": "code",
      "metadata": {
        "id": "cceDaRK3ymlq"
      },
      "source": [
        "@tf.function\n",
        "def train_step(batch):\n",
        "    \n",
        "    with tf.GradientTape() as tape:\n",
        "        # Anchor & Positive/Negative image\n",
        "        X = batch[:2]\n",
        "        \n",
        "        # Label\n",
        "        Y = batch[2]\n",
        "        \n",
        "        # Forward Pass\n",
        "        yhat = siamese_model(X, training=True)\n",
        "        # Calculate loss\n",
        "        loss = binary_cross_loss(Y, yhat)\n",
        "    print(loss)\n",
        "        \n",
        "    # Calculate Gradients\n",
        "    grad = tape.gradient(loss, siamese_model.trainable_variables)\n",
        "    opt.apply_gradients(zip(grad, siamese_model.trainable_variables))\n",
        "    \n",
        "    return loss"
      ],
      "execution_count": 25,
      "outputs": []
    },
    {
      "cell_type": "code",
      "metadata": {
        "id": "mOxZMpfYz308"
      },
      "source": [
        "# Training Loop\n",
        "def train(data, epochs):\n",
        "    for epoch in range(1, epochs+1):\n",
        "        print(\"\\n Epoch {}/{}\".format(epoch, epochs))\n",
        "        progbar = tf.keras.utils.Progbar(len(data))\n",
        "        \n",
        "        for idx, batch in enumerate(data):\n",
        "            train_step(batch)\n",
        "            progbar.update(idx+1)\n",
        "            \n",
        "        # Save Checkpoints\n",
        "        if epoch % 10 == 0:\n",
        "            checkpoint.save(file_prefix=checkpoint_prefix)"
      ],
      "execution_count": 22,
      "outputs": []
    },
    {
      "cell_type": "code",
      "metadata": {
        "id": "kOQoA72gz6QZ"
      },
      "source": [
        "EPOCHS = 50"
      ],
      "execution_count": 23,
      "outputs": []
    },
    {
      "cell_type": "code",
      "metadata": {
        "colab": {
          "base_uri": "https://localhost:8080/"
        },
        "id": "W1jmFpLLz8iF",
        "outputId": "b7589551-1bb5-4849-dafe-62534e4aae43"
      },
      "source": [
        "train(train_data, EPOCHS)"
      ],
      "execution_count": 26,
      "outputs": [
        {
          "output_type": "stream",
          "name": "stdout",
          "text": [
            "\n",
            " Epoch 1/50\n",
            "Tensor(\"binary_crossentropy/weighted_loss/value:0\", shape=(), dtype=float32)\n",
            "Tensor(\"binary_crossentropy/weighted_loss/value:0\", shape=(), dtype=float32)\n",
            "26/27 [===========================>..] - ETA: 0sTensor(\"binary_crossentropy/weighted_loss/value:0\", shape=(), dtype=float32)\n",
            "27/27 [==============================] - 56s 899ms/step\n",
            "\n",
            " Epoch 2/50\n",
            "27/27 [==============================] - 23s 901ms/step\n",
            "\n",
            " Epoch 3/50\n",
            "27/27 [==============================] - 23s 889ms/step\n",
            "\n",
            " Epoch 4/50\n",
            "27/27 [==============================] - 23s 881ms/step\n",
            "\n",
            " Epoch 5/50\n",
            "27/27 [==============================] - 23s 880ms/step\n",
            "\n",
            " Epoch 6/50\n",
            "27/27 [==============================] - 23s 876ms/step\n",
            "\n",
            " Epoch 7/50\n",
            "27/27 [==============================] - 23s 876ms/step\n",
            "\n",
            " Epoch 8/50\n",
            "27/27 [==============================] - 23s 871ms/step\n",
            "\n",
            " Epoch 9/50\n",
            "27/27 [==============================] - 23s 870ms/step\n",
            "\n",
            " Epoch 10/50\n",
            "27/27 [==============================] - 23s 874ms/step\n",
            "\n",
            " Epoch 11/50\n",
            "27/27 [==============================] - 23s 883ms/step\n",
            "\n",
            " Epoch 12/50\n",
            "27/27 [==============================] - 23s 886ms/step\n",
            "\n",
            " Epoch 13/50\n",
            "27/27 [==============================] - 23s 879ms/step\n",
            "\n",
            " Epoch 14/50\n",
            "27/27 [==============================] - 23s 880ms/step\n",
            "\n",
            " Epoch 15/50\n",
            "27/27 [==============================] - 23s 880ms/step\n",
            "\n",
            " Epoch 16/50\n",
            "27/27 [==============================] - 23s 880ms/step\n",
            "\n",
            " Epoch 17/50\n",
            "27/27 [==============================] - 23s 882ms/step\n",
            "\n",
            " Epoch 18/50\n",
            "27/27 [==============================] - 23s 881ms/step\n",
            "\n",
            " Epoch 19/50\n",
            "27/27 [==============================] - 23s 882ms/step\n",
            "\n",
            " Epoch 20/50\n",
            "27/27 [==============================] - 23s 880ms/step\n",
            "\n",
            " Epoch 21/50\n",
            "27/27 [==============================] - 23s 890ms/step\n",
            "\n",
            " Epoch 22/50\n",
            "27/27 [==============================] - 23s 885ms/step\n",
            "\n",
            " Epoch 23/50\n",
            "27/27 [==============================] - 23s 882ms/step\n",
            "\n",
            " Epoch 24/50\n",
            "27/27 [==============================] - 23s 880ms/step\n",
            "\n",
            " Epoch 25/50\n",
            "27/27 [==============================] - 23s 882ms/step\n",
            "\n",
            " Epoch 26/50\n",
            "27/27 [==============================] - 23s 881ms/step\n",
            "\n",
            " Epoch 27/50\n",
            "27/27 [==============================] - 23s 883ms/step\n",
            "\n",
            " Epoch 28/50\n",
            "27/27 [==============================] - 23s 881ms/step\n",
            "\n",
            " Epoch 29/50\n",
            "27/27 [==============================] - 23s 881ms/step\n",
            "\n",
            " Epoch 30/50\n",
            "27/27 [==============================] - 23s 882ms/step\n",
            "\n",
            " Epoch 31/50\n",
            "27/27 [==============================] - 23s 888ms/step\n",
            "\n",
            " Epoch 32/50\n",
            "27/27 [==============================] - 23s 884ms/step\n",
            "\n",
            " Epoch 33/50\n",
            "27/27 [==============================] - 23s 883ms/step\n",
            "\n",
            " Epoch 34/50\n",
            "27/27 [==============================] - 23s 881ms/step\n",
            "\n",
            " Epoch 35/50\n",
            "27/27 [==============================] - 23s 883ms/step\n",
            "\n",
            " Epoch 36/50\n",
            "27/27 [==============================] - 23s 880ms/step\n",
            "\n",
            " Epoch 37/50\n",
            "27/27 [==============================] - 23s 888ms/step\n",
            "\n",
            " Epoch 38/50\n",
            "27/27 [==============================] - 23s 883ms/step\n",
            "\n",
            " Epoch 39/50\n",
            "27/27 [==============================] - 23s 882ms/step\n",
            "\n",
            " Epoch 40/50\n",
            "27/27 [==============================] - 23s 883ms/step\n",
            "\n",
            " Epoch 41/50\n",
            "27/27 [==============================] - 23s 889ms/step\n",
            "\n",
            " Epoch 42/50\n",
            "27/27 [==============================] - 23s 884ms/step\n",
            "\n",
            " Epoch 43/50\n",
            "27/27 [==============================] - 23s 885ms/step\n",
            "\n",
            " Epoch 44/50\n",
            "27/27 [==============================] - 23s 883ms/step\n",
            "\n",
            " Epoch 45/50\n",
            "27/27 [==============================] - 23s 884ms/step\n",
            "\n",
            " Epoch 46/50\n",
            "27/27 [==============================] - 23s 881ms/step\n",
            "\n",
            " Epoch 47/50\n",
            "27/27 [==============================] - 23s 882ms/step\n",
            "\n",
            " Epoch 48/50\n",
            "27/27 [==============================] - 23s 882ms/step\n",
            "\n",
            " Epoch 49/50\n",
            "27/27 [==============================] - 23s 883ms/step\n",
            "\n",
            " Epoch 50/50\n",
            "27/27 [==============================] - 23s 882ms/step\n"
          ]
        }
      ]
    },
    {
      "cell_type": "markdown",
      "metadata": {
        "id": "5MzO88It9tTO"
      },
      "source": [
        "# Evaluating Model"
      ]
    },
    {
      "cell_type": "code",
      "metadata": {
        "id": "4scyIjFpz-Pd"
      },
      "source": [
        "# Import metric calculations\n",
        "from tensorflow.keras.metrics import Precision, Recall"
      ],
      "execution_count": 27,
      "outputs": []
    },
    {
      "cell_type": "code",
      "metadata": {
        "id": "B76m04Dw9yzu"
      },
      "source": [
        "# Batch of Test Data\n",
        "test_input, test_val, y_true = test_data.as_numpy_iterator().next()"
      ],
      "execution_count": 28,
      "outputs": []
    },
    {
      "cell_type": "code",
      "metadata": {
        "colab": {
          "base_uri": "https://localhost:8080/"
        },
        "id": "nFLvtZnH90vV",
        "outputId": "025d167a-f35f-47cf-ee4f-d0111da8ed74"
      },
      "source": [
        "# Making Predictions\n",
        "y_hat = siamese_model.predict([test_input, test_val])\n",
        "\n",
        "# Post Processing the results\n",
        "[1 if prediction > 0.5 else 0 for prediction in y_hat]"
      ],
      "execution_count": 30,
      "outputs": [
        {
          "output_type": "execute_result",
          "data": {
            "text/plain": [
              "[1, 1, 0, 1, 0, 0, 0, 0, 0, 1, 0, 0, 1, 1, 0, 1]"
            ]
          },
          "metadata": {},
          "execution_count": 30
        }
      ]
    },
    {
      "cell_type": "code",
      "metadata": {
        "colab": {
          "base_uri": "https://localhost:8080/"
        },
        "id": "5-RuzZgL-1Gj",
        "outputId": "f85d7c69-002c-4cd5-f4e6-efbf9a233bd2"
      },
      "source": [
        "y_true"
      ],
      "execution_count": 31,
      "outputs": [
        {
          "output_type": "execute_result",
          "data": {
            "text/plain": [
              "array([1., 1., 0., 1., 0., 0., 0., 0., 0., 1., 0., 0., 1., 1., 0., 1.],\n",
              "      dtype=float32)"
            ]
          },
          "metadata": {},
          "execution_count": 31
        }
      ]
    },
    {
      "cell_type": "code",
      "metadata": {
        "colab": {
          "base_uri": "https://localhost:8080/"
        },
        "id": "QNGS8x8oAIjp",
        "outputId": "c90b97ab-96bd-4951-e002-0d715e6fe725"
      },
      "source": [
        "# Metric Object\n",
        "m = Recall()\n",
        "\n",
        "# Calculating Recall Value\n",
        "m.update_state(y_true, y_hat)\n",
        "\n",
        "# Return Recall Results\n",
        "m.result().numpy()"
      ],
      "execution_count": 32,
      "outputs": [
        {
          "output_type": "execute_result",
          "data": {
            "text/plain": [
              "1.0"
            ]
          },
          "metadata": {},
          "execution_count": 32
        }
      ]
    },
    {
      "cell_type": "code",
      "metadata": {
        "colab": {
          "base_uri": "https://localhost:8080/"
        },
        "id": "LRRSMyj-BYpq",
        "outputId": "6c03e41d-42cd-48b8-cbfc-efe7a4f90d6b"
      },
      "source": [
        "# Metric Object\n",
        "m = Precision()\n",
        "\n",
        "# Calculating Recall Value\n",
        "m.update_state(y_true, y_hat)\n",
        "\n",
        "# Return Recall Results\n",
        "m.result().numpy()"
      ],
      "execution_count": 33,
      "outputs": [
        {
          "output_type": "execute_result",
          "data": {
            "text/plain": [
              "1.0"
            ]
          },
          "metadata": {},
          "execution_count": 33
        }
      ]
    },
    {
      "cell_type": "code",
      "metadata": {
        "id": "X3zgnbX6Bka9"
      },
      "source": [
        "# Visualize Results\n",
        "plt.figure(figsize=(10, 8))\n",
        "plt.subplot(1, 2, 1)\n",
        "plt.imshow(test_input[2])\n",
        "plt.subplot(1, 2, 2)\n",
        "plt.imshow(test_val[2])\n",
        "plt.show"
      ],
      "execution_count": null,
      "outputs": []
    },
    {
      "cell_type": "markdown",
      "metadata": {
        "id": "Nxxo6N-OEgwW"
      },
      "source": [
        "# Saving the Model"
      ]
    },
    {
      "cell_type": "code",
      "metadata": {
        "colab": {
          "base_uri": "https://localhost:8080/"
        },
        "id": "DJ-w-0_MClGA",
        "outputId": "ccbc95ec-aa3e-4274-d880-9fcd20ed541c"
      },
      "source": [
        "# Save Weights\n",
        "siamese_model.save(\"siamesemodel.h5\")"
      ],
      "execution_count": 37,
      "outputs": [
        {
          "output_type": "stream",
          "name": "stdout",
          "text": [
            "WARNING:tensorflow:Compiled the loaded model, but the compiled metrics have yet to be built. `model.compile_metrics` will be empty until you train or evaluate the model.\n"
          ]
        }
      ]
    },
    {
      "cell_type": "code",
      "metadata": {
        "colab": {
          "base_uri": "https://localhost:8080/"
        },
        "id": "P-Nnr9pgEtDN",
        "outputId": "297160c1-908d-4edb-cfd5-8d7b990f4b0a"
      },
      "source": [
        "# Reload the Model\n",
        "model = tf.keras.models.load_model(\"siamesemodel.h5\",\n",
        "                                   custom_objects={\"L1Dist\":L1Dist, \"BinaryCrossentropy\":tf.losses.BinaryCrossentropy})"
      ],
      "execution_count": 38,
      "outputs": [
        {
          "output_type": "stream",
          "name": "stdout",
          "text": [
            "WARNING:tensorflow:No training configuration found in the save file, so the model was *not* compiled. Compile it manually.\n"
          ]
        }
      ]
    },
    {
      "cell_type": "code",
      "metadata": {
        "id": "suKsMa78FeE2"
      },
      "source": [
        ""
      ],
      "execution_count": null,
      "outputs": []
    }
  ]
}