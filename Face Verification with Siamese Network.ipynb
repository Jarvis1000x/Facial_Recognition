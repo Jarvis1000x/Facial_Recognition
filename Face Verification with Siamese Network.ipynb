{
 "cells": [
  {
   "cell_type": "code",
   "execution_count": null,
   "id": "98d66c4a",
   "metadata": {},
   "outputs": [],
   "source": [
    "# Standard Dependencies\n",
    "import os\n",
    "import cv2\n",
    "import random\n",
    "import numpy as np\n",
    "from matplotlib import pyplot as plt\n",
    "import uuid\n",
    "\n",
    "# Tensorflow Dependencies\n",
    "from tensorflow.keras.models import Model\n",
    "from tensorflow.keras.layers import Layer, Conv2D, Dense, MaxPooling2D, Input, Flatten\n",
    "import tensorflow as tf"
   ]
  },
  {
   "cell_type": "code",
   "execution_count": null,
   "id": "e25b2c67",
   "metadata": {},
   "outputs": [],
   "source": [
    "# Avoiding OOM Errors for GPU\n",
    "gpus = tf.config.experimental.list_physical_devices(\"GPU\")\n",
    "for gpu in gpus:\n",
    "    tf.config.experimental.set_memory_growth(gpu, True)"
   ]
  },
  {
   "cell_type": "code",
   "execution_count": null,
   "id": "79c20ee3",
   "metadata": {},
   "outputs": [],
   "source": [
    "# Folder Structure\n",
    "Pos_Path = os.path.join(\"data\", \"positive\")\n",
    "Neg_Path = os.path.join(\"data\", \"negative\")\n",
    "Anc_Path = os.path.join(\"data\", \"anchor\")"
   ]
  },
  {
   "cell_type": "code",
   "execution_count": null,
   "id": "fb34a66d",
   "metadata": {},
   "outputs": [],
   "source": [
    "os.makedirs(Pos_Path)\n",
    "os.makedirs(Neg_Path)\n",
    "os.makedirs(Anc_Path)"
   ]
  },
  {
   "cell_type": "markdown",
   "id": "107f2f56",
   "metadata": {},
   "source": [
    " # Collecting & Processing Data"
   ]
  },
  {
   "cell_type": "code",
   "execution_count": null,
   "id": "ac2bcba7",
   "metadata": {},
   "outputs": [],
   "source": [
    "# Uncompress Tar GZ Dataset\n",
    "!tar -xf lfw.tgz"
   ]
  },
  {
   "cell_type": "code",
   "execution_count": null,
   "id": "2f7ba2a8",
   "metadata": {},
   "outputs": [],
   "source": [
    "# Movw LFW data to data/neg\n",
    "for directory in os.listdir(\"lfw\"):\n",
    "    for file in os.listdir(os.path.join(\"lfw\", directory)):\n",
    "        EX_PATH = os.path.join(\"lfw\", directory, file)\n",
    "        NEW_PATH = os.path.join(Neg_Path, file)\n",
    "        os.replace(EX_PATH, NEW_PATH)"
   ]
  },
  {
   "cell_type": "code",
   "execution_count": null,
   "id": "64422e10",
   "metadata": {},
   "outputs": [],
   "source": [
    "# Connect Webcam\n",
    "cap = cv2.VideoCapture(0)\n",
    "while cap.isOpened():\n",
    "    ret, frame = cap.read()\n",
    "    \n",
    "    # Resize Frame\n",
    "    frame = frame[120:120+250, 250: 250+250, :]\n",
    "    \n",
    "    # Collect Anchors\n",
    "    if cv2.waitKey(1) & 0XFF == ord(\"a\"):\n",
    "        # Creating Unique filepath\n",
    "        imgname = os.path.join(Anc_Path, \"{}.jpg\".format(uuid.uuid1()))\n",
    "        cv2.imwrite(imgname, frame)\n",
    "    \n",
    "    # Collect Positives\n",
    "    if cv2.waitKey(1) & 0XFF == ord(\"p\"):\n",
    "        # Creating Unique filepath\n",
    "        imgname = os.path.join(Pos_Path, \"{}.jpg\".format(uuid.uuid1()))\n",
    "        cv2.imwrite(imgname, frame)\n",
    "\n",
    "    # Show image back to screen\n",
    "    cv2.imshow(\"Image Collection\", frame)\n",
    "    \n",
    "    if cv2.waitKey(1) & 0XFF == ord(\"q\"):\n",
    "        break\n",
    "# Release webcam        \n",
    "cap.release()\n",
    "# Close image\n",
    "cv2.destroyAllWindows()"
   ]
  },
  {
   "cell_type": "markdown",
   "id": "2883b7d8",
   "metadata": {},
   "source": [
    "# Loading and Preprocessing Data"
   ]
  },
  {
   "cell_type": "code",
   "execution_count": null,
   "id": "08d423ef",
   "metadata": {},
   "outputs": [],
   "source": [
    "anchor = tf.data.Dataset.list_files(Anc_Path+\"\\*.jpg\").take(300)\n",
    "positive = tf.data.Dataset.list_files(Pos_Path+\"\\*.jpg\").take(300)\n",
    "negative = tf.data.Dataset.list_files(Neg_Path+\"\\*.jpg\").take(300)"
   ]
  },
  {
   "cell_type": "code",
   "execution_count": null,
   "id": "010d2b93",
   "metadata": {},
   "outputs": [],
   "source": [
    "# Preprocessing\n",
    "def preprocess(file_path):\n",
    "    byte_img = tf.io.read_file(file_path)\n",
    "    img = tf.io.decode_jpeg(byte_img)\n",
    "    img = tf.image.resize(img, (100, 100))\n",
    "    img = img /255.0\n",
    "    return img    "
   ]
  },
  {
   "cell_type": "code",
   "execution_count": null,
   "id": "530fbbe4",
   "metadata": {},
   "outputs": [],
   "source": [
    "# Creating Labelled Dataset\n",
    "positives = tf.data.Dataset.zip((anchor, positive, tf.data.Dataset.from_tensor_slices(tf.ones(len(anchor)))))\n",
    "negatives = tf.data.Dataset.zip((anchor, negative, tf.data.Dataset.from_tensor_slices(tf.zeros(len(anchor)))))\n",
    "data = positives.concatenate(negatives)"
   ]
  },
  {
   "cell_type": "code",
   "execution_count": null,
   "id": "0c95da2a",
   "metadata": {},
   "outputs": [],
   "source": [
    "samples = data.as_numpy_iterator()"
   ]
  },
  {
   "cell_type": "code",
   "execution_count": null,
   "id": "fda6572e",
   "metadata": {},
   "outputs": [],
   "source": [
    "def preprocess_twins(input_img, validation_img, label):\n",
    "    return(preprocess(input_img), preprocess(validation_img), label)"
   ]
  },
  {
   "cell_type": "code",
   "execution_count": null,
   "id": "fe17bd68",
   "metadata": {},
   "outputs": [],
   "source": [
    "# Dataloader Pipeline\n",
    "data = data.map(preprocess_twins)\n",
    "data = data.cache()\n",
    "data = data.shuffle(buffer_size=1024)\n",
    "\n",
    "# Training Partition \n",
    "train_data = data.take(round(len(data)*.7))\n",
    "train_data = train_data.batch(16)\n",
    "train_data = train_data.prefetch(8)"
   ]
  },
  {
   "cell_type": "code",
   "execution_count": null,
   "id": "15cfbb47",
   "metadata": {},
   "outputs": [],
   "source": [
    "# Testing Partition\n",
    "test_data = data.skip(round(len(data)*.7))\n",
    "test_data = test_data.take(round(len(data)*.3))\n",
    "test_data = test_data.batch(16)\n",
    "test_data = test_data.prefetch(8)"
   ]
  },
  {
   "cell_type": "markdown",
   "id": "5173665d",
   "metadata": {},
   "source": [
    "# Building the Model"
   ]
  },
  {
   "cell_type": "code",
   "execution_count": null,
   "id": "67bf0359",
   "metadata": {},
   "outputs": [],
   "source": [
    "# Embedding Layer\n",
    "def make_embedding():\n",
    "    inp = Input(shape=(100, 100, 3), name=\"input_image\")\n",
    "    \n",
    "    # First Block\n",
    "    c1 = Conv2D(64, (10, 10), activation=\"relu\")(inp)\n",
    "    m1 = MaxPooling2D(64, (2, 2), padding=\"same\")(c1)\n",
    "    \n",
    "    #Second Block\n",
    "    c2 = Conv2D(128, (7, 7), activation=\"relu\")(m1)\n",
    "    m2 = MaxPooling2D(64, (2, 2), padding=\"same\")(c2)\n",
    "    \n",
    "    #Third Block\n",
    "    c3 = Conv2D(128, (4, 4), activation=\"relu\")(m2)\n",
    "    m3 = MaxPooling2D(64, (2, 2), padding=\"same\")(c2)\n",
    "    \n",
    "    # Final Embedding Layer\n",
    "    c4 = Conv2D(256, (4, 4), activation=\"relu\")(m3)\n",
    "    f1 = Flatten()(c4)\n",
    "    d1 = Dense(4096, activation=\"sigmoid\")(f1)\n",
    "    \n",
    "    return Model(inputs=[inp], outputs=[d1], name=\"embedding\")"
   ]
  },
  {
   "cell_type": "code",
   "execution_count": null,
   "id": "4d3444cf",
   "metadata": {},
   "outputs": [],
   "source": [
    "embedding = make_embedding()"
   ]
  },
  {
   "cell_type": "code",
   "execution_count": null,
   "id": "b31bdfb2",
   "metadata": {},
   "outputs": [],
   "source": [
    "embedding.summary()"
   ]
  },
  {
   "cell_type": "code",
   "execution_count": null,
   "id": "5d1e97db",
   "metadata": {},
   "outputs": [],
   "source": [
    "# Siamese L1 Distance Class\n",
    "class L1Dist(Layer):\n",
    "    def __init__(self, **kwargs):\n",
    "        super().__init__()\n",
    "    \n",
    "    # Similarity Clarification\n",
    "    def call(self, input_embedding, validation_embedding):\n",
    "        return tf.math.abs(input_embedding - validation_embedding)"
   ]
  },
  {
   "cell_type": "code",
   "execution_count": null,
   "id": "23bc9466",
   "metadata": {},
   "outputs": [],
   "source": [
    "l1 = L1Dist()"
   ]
  },
  {
   "cell_type": "code",
   "execution_count": null,
   "id": "4252d766",
   "metadata": {},
   "outputs": [],
   "source": [
    "# Siamese Model\n",
    "def make_siamese_model():\n",
    "    \n",
    "    # Anchor Image\n",
    "    input_image = Input(name=\"input_img\", shape=(100, 100, 3))\n",
    "    \n",
    "    # Validation Image\n",
    "    validation_image = Input(name=\"validation_img\", shape=(100, 100, 3))\n",
    "    \n",
    "    # Siamese distance components\n",
    "    siamese_layer = L1Dist()\n",
    "    siamese_layer._name = \"distance\"\n",
    "    distances = siamese_layer(embedding(input_image), embedding(validation_image))\n",
    "    \n",
    "    # Classification Layer\n",
    "    classifier = Dense(1, activation=\"sigmoid\")(distances)\n",
    "    \n",
    "    return Model(inputs=[input_image, validation_image], outputs=classifier, name=\"SiameseNetwork\")\n"
   ]
  },
  {
   "cell_type": "code",
   "execution_count": null,
   "id": "dc488677",
   "metadata": {},
   "outputs": [],
   "source": [
    "siamese_model = make_siamese_model()"
   ]
  },
  {
   "cell_type": "code",
   "execution_count": null,
   "id": "13fd40ff",
   "metadata": {},
   "outputs": [],
   "source": [
    "siamese_model.summary()"
   ]
  },
  {
   "cell_type": "markdown",
   "id": "974d5288",
   "metadata": {},
   "source": [
    "# Training"
   ]
  },
  {
   "cell_type": "code",
   "execution_count": null,
   "id": "b28bbd22",
   "metadata": {},
   "outputs": [],
   "source": [
    "binary_cross_loss = tf.losses.BinaryCrossentropy()"
   ]
  },
  {
   "cell_type": "code",
   "execution_count": null,
   "id": "67d7982c",
   "metadata": {},
   "outputs": [],
   "source": [
    "opt = tf.keras.optimizers.Adam(1e-4)"
   ]
  },
  {
   "cell_type": "code",
   "execution_count": null,
   "id": "d8ab2787",
   "metadata": {},
   "outputs": [],
   "source": [
    "# Checkpoints\n",
    "checkpoint_dir = './training_checkpoints'\n",
    "checkpoint_prefix = os.path.join(checkpoint_dir, 'ckpt')\n",
    "checkpoint = tf.train.Checkpoint(opt=opt, siamese_model=siamese_model)"
   ]
  },
  {
   "cell_type": "code",
   "execution_count": null,
   "id": "133fd591",
   "metadata": {},
   "outputs": [],
   "source": [
    "@tf.function\n",
    "def train_step(batch):\n",
    "    \n",
    "    with tf.GradientTape() as tape:\n",
    "        # Anchor & Positive/Negative image\n",
    "        X = batch[:2]\n",
    "        \n",
    "        # Label\n",
    "        Y = batch[2]\n",
    "        \n",
    "        # Forward Pass\n",
    "        yhat = siamese_model(X, training=True)\n",
    "        # Calculate loss\n",
    "        loss = binary_cross_loss(Y, yhat)\n",
    "    print(loss)\n",
    "        \n",
    "    # Calculate Gradients\n",
    "    grad = tape.gradient(loss, siamese_model.trainable_variables)\n",
    "    opt.apply_gradients(zip(grad, siamese_model.trainable_variable))\n",
    "    \n",
    "    return loss"
   ]
  },
  {
   "cell_type": "code",
   "execution_count": null,
   "id": "661b0e3f",
   "metadata": {},
   "outputs": [],
   "source": [
    "# Training Loop\n",
    "def train(data, epochs):\n",
    "    for epoch in range(1, epochs+1):\n",
    "        print(\"\\n Epoch {}/{}\".format(epoch, epochs))\n",
    "        progbar = tf.keras.utils.Progbar(len(data))\n",
    "        \n",
    "        for idx, batch in enumerate(data):\n",
    "            train_step(batch)\n",
    "            progbar.update(idx+1)\n",
    "            \n",
    "        # Save Checkpoints\n",
    "        if epoch % 10 == 0:\n",
    "            checkpoint.save(file_prefix=checkpoint_prefix)"
   ]
  },
  {
   "cell_type": "code",
   "execution_count": null,
   "id": "c6280258",
   "metadata": {},
   "outputs": [],
   "source": [
    "EPOCHS = 50"
   ]
  },
  {
   "cell_type": "code",
   "execution_count": null,
   "id": "5c611a7e",
   "metadata": {},
   "outputs": [],
   "source": [
    "train(train_data, EPOCHS)"
   ]
  },
  {
   "cell_type": "markdown",
   "id": "e977ccb5",
   "metadata": {},
   "source": [
    "# Evaluating Model"
   ]
  },
  {
   "cell_type": "code",
   "execution_count": null,
   "id": "b3783904",
   "metadata": {},
   "outputs": [],
   "source": [
    "# Import metric calculations\n",
    "from tensorflow.keras.metrics import Precision, Recall"
   ]
  },
  {
   "cell_type": "code",
   "execution_count": null,
   "id": "8e868d99",
   "metadata": {},
   "outputs": [],
   "source": [
    "# Batch of Test Data\n",
    "test_input, test_val, y_true = test_data.as_numpy_iterator().next()"
   ]
  },
  {
   "cell_type": "code",
   "execution_count": null,
   "id": "d793daed",
   "metadata": {},
   "outputs": [],
   "source": [
    "# Making Predictions\n",
    "y_hat = siamese_model.predict([test_input, test_val])\n",
    "\n",
    "# Post Processing the results\n",
    "[1 if prediction > 0.5 else 0 for prediction in y_hat]"
   ]
  },
  {
   "cell_type": "code",
   "execution_count": null,
   "id": "13d307a0",
   "metadata": {},
   "outputs": [],
   "source": [
    "y_true"
   ]
  },
  {
   "cell_type": "code",
   "execution_count": null,
   "id": "da47754e",
   "metadata": {},
   "outputs": [],
   "source": [
    "# Metric Object\n",
    "m = Recall()\n",
    "\n",
    "# Calculating Recall Value\n",
    "m.update_state(y_true, y_hat)\n",
    "\n",
    "# Return Recall Results\n",
    "m.result().numpy()"
   ]
  },
  {
   "cell_type": "code",
   "execution_count": null,
   "id": "1d674f50",
   "metadata": {},
   "outputs": [],
   "source": [
    "# Metric Object\n",
    "m = Precision()\n",
    "\n",
    "# Calculating Recall Value\n",
    "m.update_state(y_true, y_hat)\n",
    "\n",
    "# Return Recall Results\n",
    "m.result().numpy()"
   ]
  },
  {
   "cell_type": "markdown",
   "id": "a0e5ca2d",
   "metadata": {},
   "source": [
    "# Visualization"
   ]
  },
  {
   "cell_type": "code",
   "execution_count": null,
   "id": "fe6a8bef",
   "metadata": {},
   "outputs": [],
   "source": [
    "plt.figure(figsize=(18, 8))\n",
    "plt.subplot(1, 2, 1)\n",
    "plt.imshow(test_input[0])\n",
    "plt.subplot(1, 2, 2)\n",
    "plt.imshow(test_val)"
   ]
  },
  {
   "cell_type": "markdown",
   "id": "97d1631c",
   "metadata": {},
   "source": [
    "# Saving the Model"
   ]
  },
  {
   "cell_type": "code",
   "execution_count": null,
   "id": "e62f3ff3",
   "metadata": {},
   "outputs": [],
   "source": [
    "# Save Weights\n",
    "siamese_model.save(\"siamesemodel.h5\")"
   ]
  },
  {
   "cell_type": "code",
   "execution_count": null,
   "id": "dd6c8e6d",
   "metadata": {},
   "outputs": [],
   "source": [
    "# Reload the Model\n",
    "model = tf.keras.models.load_model(\"siamesemodel.h5\",\n",
    "                                   custom_objects={\"L1Dist\":L1Dist, \"BinaryCrossentropy\":tf.losses.BinaryCrossentropy})"
   ]
  }
 ],
 "metadata": {
  "kernelspec": {
   "display_name": "Python 3",
   "language": "python",
   "name": "python3"
  },
  "language_info": {
   "codemirror_mode": {
    "name": "ipython",
    "version": 3
   },
   "file_extension": ".py",
   "mimetype": "text/x-python",
   "name": "python",
   "nbconvert_exporter": "python",
   "pygments_lexer": "ipython3",
   "version": "3.8.8"
  }
 },
 "nbformat": 4,
 "nbformat_minor": 5
}
